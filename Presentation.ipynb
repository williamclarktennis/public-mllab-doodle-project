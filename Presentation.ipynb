{
 "cells": [
  {
   "cell_type": "code",
   "execution_count": 7,
   "id": "4e78e479",
   "metadata": {},
   "outputs": [],
   "source": [
    "import neural_network as NN\n",
    "import UI\n",
    "import UIpca\n",
    "\n",
    "import tkinter as tk\n",
    "import numpy as np\n",
    "import matplotlib.pyplot as plt\n",
    "import joblib"
   ]
  },
  {
   "cell_type": "markdown",
   "id": "ceb60d6e",
   "metadata": {},
   "source": [
    "### 5 Categories\n",
    "- Training data: 45.000\n",
    "- Training: 6 epochs, 128 batch size\n",
    "- accuracy: 97.94%"
   ]
  },
  {
   "cell_type": "code",
   "execution_count": 9,
   "id": "341a3db3",
   "metadata": {},
   "outputs": [],
   "source": [
    "five_cat_model = NN.create_model_for_test(5)\n",
    "five_cat_model.load_weights('weights/five_cat_model.weights.h5')\n",
    "\n",
    "if __name__ == \"__main__\":\n",
    "    root = tk.Tk()\n",
    "    app = UI.DrawingApp(root, num_categories=5, model = five_cat_model)\n",
    "    root.mainloop()"
   ]
  },
  {
   "cell_type": "markdown",
   "id": "fa839477",
   "metadata": {},
   "source": [
    "Notes:\n",
    "- banana vs alarm: extremely sensitive to the center of the drawing\n",
    "- essential to draw the things centered and in a \"typical\" rotation\n"
   ]
  },
  {
   "cell_type": "markdown",
   "id": "a29997c5",
   "metadata": {},
   "source": [
    "### 10 Categories"
   ]
  },
  {
   "cell_type": "markdown",
   "id": "f8464caa",
   "metadata": {},
   "source": [
    "- Training data: 90000\n",
    "- Training: 6 Epochs, 128 batch size\n",
    "- accuracy: 95.80%"
   ]
  },
  {
   "cell_type": "code",
   "execution_count": 5,
   "id": "49b23b38",
   "metadata": {},
   "outputs": [
    {
     "name": "stderr",
     "output_type": "stream",
     "text": [
      "/Users/williamclark/Desktop/.mllab/lib/python3.9/site-packages/keras/src/saving/saving_lib.py:757: UserWarning: Skipping variable loading for optimizer 'adam', because it has 2 variables whereas the saved optimizer has 18 variables. \n",
      "  saveable.load_own_variables(weights_store.get(inner_path))\n"
     ]
    }
   ],
   "source": [
    "ten_cat_model = NN.create_model_for_test(10)\n",
    "ten_cat_model.load_weights('weights/ten_cat_model.weights.h5')\n",
    "\n",
    "if __name__ == \"__main__\":\n",
    "    root = tk.Tk()\n",
    "    app = UI.DrawingApp(root, num_categories=10, model = ten_cat_model)\n",
    "    root.mainloop()"
   ]
  },
  {
   "cell_type": "markdown",
   "id": "6c49fdb8",
   "metadata": {},
   "source": [
    "### 20 Categories"
   ]
  },
  {
   "cell_type": "markdown",
   "id": "7df47397",
   "metadata": {},
   "source": [
    "- Training data: 180000\n",
    "- Training: 6 epochs, 128 batch size\n",
    "- accuracy: 90.80%"
   ]
  },
  {
   "cell_type": "code",
   "execution_count": 6,
   "id": "425f587d",
   "metadata": {},
   "outputs": [],
   "source": [
    "twenty_cat_model = NN.create_model_for_test(20)\n",
    "twenty_cat_model.load_weights('weights/twenty_cat_model.weights.h5')\n",
    "\n",
    "if __name__ == \"__main__\":\n",
    "    root = tk.Tk()\n",
    "    app = UI.DrawingApp(root, num_categories=20, model = twenty_cat_model)\n",
    "    root.mainloop()"
   ]
  },
  {
   "cell_type": "markdown",
   "id": "7cf3c858-3763-4021-8436-dc3852f4adb6",
   "metadata": {},
   "source": [
    "### 30 Categories\n",
    "- Training data: 960,000 images (32,000 per category)\n",
    "- Validation data: 180,000 images (6,000 per category)\n",
    "- Training: 12 epochs, 128 batch size\n",
    "- accuracy: 90.19%\n",
    "- validation accuracy: 90.18%"
   ]
  },
  {
   "cell_type": "code",
   "execution_count": 11,
   "id": "33147ee1-04f5-4aed-8ea3-5ae37dc247a7",
   "metadata": {},
   "outputs": [
    {
     "name": "stderr",
     "output_type": "stream",
     "text": [
      "/Users/williamclark/Desktop/.mllab/lib/python3.9/site-packages/keras/src/saving/saving_lib.py:757: UserWarning: Skipping variable loading for optimizer 'adam', because it has 2 variables whereas the saved optimizer has 18 variables. \n",
      "  saveable.load_own_variables(weights_store.get(inner_path))\n"
     ]
    }
   ],
   "source": [
    "thirty_cat_model = NN.create_model_for_test(30)\n",
    "thirty_cat_model.load_weights('weights/thirty_cat_model.weights.h5')\n",
    "\n",
    "if __name__ == \"__main__\":\n",
    "    root = tk.Tk()\n",
    "    app = UI.DrawingApp(root, num_categories=30, model = thirty_cat_model)\n",
    "    root.mainloop()"
   ]
  },
  {
   "cell_type": "markdown",
   "id": "d724fb53-1317-4e3f-8367-b1e8963f25bd",
   "metadata": {},
   "source": [
    "### PCA and Fully Connected Neural Network Model: 5 Category classifier"
   ]
  },
  {
   "cell_type": "markdown",
   "id": "f74a53e2",
   "metadata": {},
   "source": [
    "\n",
    "- Training data: 180,000 images (36,000 images per category)\n",
    "\n",
    "- Validation data: 20,000 images (4,000 images per category)\n",
    "\n",
    "- Training: 20 epochs, 128 batch size\n",
    "\n",
    "- accuracy: 93.61%\n",
    "\n",
    "- validation accuracy: 93.97%"
   ]
  },
  {
   "cell_type": "code",
   "execution_count": 10,
   "id": "0d86bfed-d07a-4774-88e0-1ffe5a602ae6",
   "metadata": {},
   "outputs": [
    {
     "name": "stderr",
     "output_type": "stream",
     "text": [
      "/Users/williamclark/Desktop/.mllab/lib/python3.9/site-packages/keras/src/saving/saving_lib.py:757: UserWarning: Skipping variable loading for optimizer 'adam', because it has 2 variables whereas the saved optimizer has 14 variables. \n",
      "  saveable.load_own_variables(weights_store.get(inner_path))\n"
     ]
    }
   ],
   "source": [
    "from tensorflow import keras\n",
    "\n",
    "num_cat = 5\n",
    "\n",
    "# Load model\n",
    "model = NN.create_fully_connected_model()\n",
    "# Load model weights:\n",
    "model.load_weights(\"weights/pca_architecturetype2.weights.h5\")\n",
    "\n",
    "# load the pca:\n",
    "pca = joblib.load(\"weights/pca_final_model.pkl\")\n",
    "\n",
    "# Set up UI\n",
    "if __name__ == \"__main__\":\n",
    "    root = tk.Tk()\n",
    "    app = UIpca.DrawingApp(root, num_categories=5, model = model, pca = pca)\n",
    "    root.mainloop()"
   ]
  },
  {
   "cell_type": "code",
   "execution_count": null,
   "id": "94b651f4-ef8e-4fa0-9779-7bce57bd42aa",
   "metadata": {},
   "outputs": [],
   "source": []
  }
 ],
 "metadata": {
  "kernelspec": {
   "display_name": "Python mllab",
   "language": "python",
   "name": "mllab"
  },
  "language_info": {
   "codemirror_mode": {
    "name": "ipython",
    "version": 3
   },
   "file_extension": ".py",
   "mimetype": "text/x-python",
   "name": "python",
   "nbconvert_exporter": "python",
   "pygments_lexer": "ipython3",
   "version": "3.9.9"
  }
 },
 "nbformat": 4,
 "nbformat_minor": 5
}
